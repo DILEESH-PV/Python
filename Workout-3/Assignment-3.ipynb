{
 "cells": [
  {
   "cell_type": "markdown",
   "metadata": {},
   "source": [
    "# **PROBLEM 1**\n",
    "\n",
    "## **OOP Exercise   :  Vehicle Problem**\n",
    "### **Create a child class Bus that will inherit all of the variables and methods of the vehicle class**"
   ]
  },
  {
   "cell_type": "code",
   "execution_count": 1,
   "metadata": {},
   "outputs": [],
   "source": [
    "class Vehicle:\n",
    "    def __init__(self,name,max_speed,mileage):\n",
    "        self.name=name\n",
    "        self.max_speed=max_speed\n",
    "        self.mileage=mileage\n",
    "        \n",
    "    def vehicle_show(self):\n",
    "        print(\"Vehicle is  in parent session\")"
   ]
  },
  {
   "cell_type": "code",
   "execution_count": 2,
   "metadata": {},
   "outputs": [],
   "source": [
    "class Bus(Vehicle):\n",
    "    def bus_show(self):\n",
    "        print(\"Bus Name      :\",self.name)\n",
    "        print(\"Maximum Speed :\",self.max_speed)\n",
    "        print(\"Mileage       :\",self.mileage)\n",
    "        print(\"\\n\")"
   ]
  },
  {
   "cell_type": "code",
   "execution_count": 3,
   "metadata": {},
   "outputs": [],
   "source": [
    "class Truck(Vehicle):\n",
    "    def truck_show(self):\n",
    "        print(\"Truck Name :\",self.name)\n",
    "        print(\"Max Speex :\",self.max_speed)\n",
    "        print(\"Mileage :\",self.mileage)\n",
    "        print(\"\\n\")"
   ]
  },
  {
   "cell_type": "code",
   "execution_count": 4,
   "metadata": {},
   "outputs": [
    {
     "name": "stdout",
     "output_type": "stream",
     "text": [
      "Bus Name      : Scania Ac Sleepper\n",
      "Maximum Speed : 109\n",
      "Mileage       : 3.8\n",
      "\n",
      "\n",
      "Truck Name : Asok Leyland\n",
      "Max Speex : 89\n",
      "Mileage : 2.9\n",
      "\n",
      "\n",
      "Vehicle is  in parent session\n"
     ]
    }
   ],
   "source": [
    "sc1=Bus('Scania Ac Sleepper',109,3.8)\n",
    "sc2=Truck('Asok Leyland',89,2.9)\n",
    "sc1.bus_show()\n",
    "sc2.truck_show()\n",
    "sc1.vehicle_show()"
   ]
  },
  {
   "cell_type": "markdown",
   "metadata": {},
   "source": [
    "# **PROBLEM 2**\n",
    "## **Temperature Problem**\n",
    "### **Create a Temperature class make two methods**\n",
    "#### **1.convertFahrenheit - It will take Celsius and will print it into Fahrenheit.**\n",
    "#### **2.convertCelsius - It will take Fahrenheit and will print it into Celsius.**"
   ]
  },
  {
   "cell_type": "code",
   "execution_count": 5,
   "metadata": {},
   "outputs": [
    {
     "name": "stdout",
     "output_type": "stream",
     "text": [
      "10.0 Degree Celsius =  50.0 Fahrenheit\n",
      "100.0 Degree Fahrenheit =  37.77777777777778 Celsius\n"
     ]
    }
   ],
   "source": [
    "class Temperature:\n",
    "    te=0\n",
    "    \n",
    "    def __init__(self,te):\n",
    "        self.te=te\n",
    "        \n",
    "    def convertFahrenheit(self):\n",
    "        tem=float((1.8*self.te)+32)\n",
    "        return tem\n",
    "    \n",
    "    def convertCelsius(self):\n",
    "        tem=float((self.te-32)/1.8)\n",
    "        return tem\n",
    "    \n",
    "    \n",
    "in_temp=float(input(\"Enter the temperature in Celsius\"))\n",
    "temp=Temperature(in_temp)\n",
    "print(in_temp,\"Degree Celsius = \",temp.convertFahrenheit(),\"Fahrenheit\")\n",
    "\n",
    "in_temp=float(input(\"Enter the temperature in Fahrenheit\"))\n",
    "temp=Temperature(in_temp)\n",
    "print(in_temp,\"Degree Fahrenheit = \",temp.convertCelsius(),\"Celsius\")"
   ]
  },
  {
   "cell_type": "markdown",
   "metadata": {},
   "source": [
    "# **PROBLEM 3**\n",
    "## **Time Problem**\n",
    "### **Create a time class and initialize it with hours and minutes**\n",
    "\n",
    "#### **1. Make a methode addTime which should be take two time object and add them.**\n",
    "#### **2. Make a methode displayTime which should print time.**\n",
    "#### **3. Make a methode DisplayMinute which should display the total minutes in the time.**"
   ]
  },
  {
   "cell_type": "code",
   "execution_count": 1,
   "metadata": {},
   "outputs": [
    {
     "name": "stdout",
     "output_type": "stream",
     "text": [
      "First time   0 : 45\n",
      "Second time  2 : 35\n",
      "Time is 3 Hours 20 Minutes\n",
      "Time in Minute is 200 Minutes\n"
     ]
    }
   ],
   "source": [
    "class Time:    \n",
    "    def __init__(self,hr,min):\n",
    "        self.hr=hr\n",
    "        self.min=min  \n",
    "              \n",
    "    def addTime(t1,t2):\n",
    "        t3=Time(0,0)\n",
    "        if (t1.min+t2.min)>60:\n",
    "            t3.hr=int((t1.min+t2.min)/60)\n",
    "            t3.min-=60\n",
    "        t3.hr=t3.hr+t2.hr+t1.hr\n",
    "        t3.min=t2.min+t1.min+t3.min\n",
    "        return t3\n",
    "    \n",
    "    def displayTime(self):\n",
    "        print (\"Time is\",self.hr,\"Hours\",self.min,\"Minutes\")\n",
    "    \n",
    "    def DisplayMinute(self):\n",
    "        print (\"Time in Minute is\",(self.hr*60)+self.min,\"Minutes\")\n",
    "    \n",
    "    \n",
    "    \n",
    "in_t1h=int(input(\"Enter the first time in hours and minutes\"))\n",
    "in_t1m=int(input(\"\"))\n",
    "in_t2h=int(input(\"Enter the second time in hours and minutes\"))\n",
    "in_t2m=int(input(\"\"))\n",
    "print(\"First time  \",in_t1h,\":\",in_t1m)\n",
    "print(\"Second time \",in_t2h,\":\",in_t2m)\n",
    "var1=Time(in_t1h,in_t1m)\n",
    "var2=Time(in_t2h,in_t2m)\n",
    "tme=Time.addTime(var1,var2)\n",
    "tme.displayTime()\n",
    "tme.DisplayMinute()"
   ]
  }
 ],
 "metadata": {
  "kernelspec": {
   "display_name": "Python 3.10.7 64-bit",
   "language": "python",
   "name": "python3"
  },
  "language_info": {
   "codemirror_mode": {
    "name": "ipython",
    "version": 3
   },
   "file_extension": ".py",
   "mimetype": "text/x-python",
   "name": "python",
   "nbconvert_exporter": "python",
   "pygments_lexer": "ipython3",
   "version": "3.10.7"
  },
  "orig_nbformat": 4,
  "vscode": {
   "interpreter": {
    "hash": "3c3b3820ff112c31392948fc0df37e67872198a6cde73f78092de005a3a09429"
   }
  }
 },
 "nbformat": 4,
 "nbformat_minor": 2
}
