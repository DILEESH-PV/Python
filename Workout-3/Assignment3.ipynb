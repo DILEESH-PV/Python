{
 "cells": [
  {
   "cell_type": "markdown",
   "metadata": {},
   "source": [
    "# **PROBLEM 1**\n",
    "\n",
    "## **OOP Exercise   :  Vehicle Problem**\n",
    "### **Create a child class Bus that will inherit all of the variables and methods of the vehicle class**"
   ]
  },
  {
   "cell_type": "code",
   "execution_count": 23,
   "metadata": {},
   "outputs": [],
   "source": [
    "class Vehicle:\n",
    "    def __init__(self,name,max_speed,mileage):\n",
    "        self.name=name\n",
    "        self.max_speed=max_speed\n",
    "        self.mileage=mileage\n",
    "        \n",
    "    def bus_show(self):\n",
    "        print(\"I Am in parent session\")"
   ]
  },
  {
   "cell_type": "code",
   "execution_count": null,
   "metadata": {},
   "outputs": [],
   "source": [
    "class Bus(Vehicle):\n",
    "    def child_show(self):\n",
    "        print(\"Bus Name      :\",self.name)\n",
    "        print(\"Maximum Speed :\",self.max_speed)\n",
    "        print(\"Mileage       :\",self.mileage)"
   ]
  },
  {
   "cell_type": "code",
   "execution_count": 1,
   "metadata": {},
   "outputs": [
    {
     "ename": "NameError",
     "evalue": "name 'Bus' is not defined",
     "output_type": "error",
     "traceback": [
      "\u001b[1;31m---------------------------------------------------------------------------\u001b[0m",
      "\u001b[1;31mNameError\u001b[0m                                 Traceback (most recent call last)",
      "Cell \u001b[1;32mIn [1], line 1\u001b[0m\n\u001b[1;32m----> 1\u001b[0m sc\u001b[39m=\u001b[39mBus(\u001b[39m'\u001b[39m\u001b[39mBarath Benz\u001b[39m\u001b[39m'\u001b[39m,\u001b[39m66\u001b[39m,\u001b[39m3\u001b[39m)\n\u001b[0;32m      2\u001b[0m sc\u001b[39m.\u001b[39mchild_show()\n",
      "\u001b[1;31mNameError\u001b[0m: name 'Bus' is not defined"
     ]
    }
   ],
   "source": [
    "sc=Bus('Barath Benz',66,3)\n",
    "sc.child_show()"
   ]
  },
  {
   "cell_type": "code",
   "execution_count": 12,
   "metadata": {},
   "outputs": [
    {
     "name": "stdout",
     "output_type": "stream",
     "text": [
      "Bus Name      : hhgfhh\n",
      "Maximum Speed : 66\n",
      "Mileage       : 3\n"
     ]
    }
   ],
   "source": []
  }
 ],
 "metadata": {
  "kernelspec": {
   "display_name": "Python 3.10.7 64-bit",
   "language": "python",
   "name": "python3"
  },
  "language_info": {
   "codemirror_mode": {
    "name": "ipython",
    "version": 3
   },
   "file_extension": ".py",
   "mimetype": "text/x-python",
   "name": "python",
   "nbconvert_exporter": "python",
   "pygments_lexer": "ipython3",
   "version": "3.10.7"
  },
  "orig_nbformat": 4,
  "vscode": {
   "interpreter": {
    "hash": "3c3b3820ff112c31392948fc0df37e67872198a6cde73f78092de005a3a09429"
   }
  }
 },
 "nbformat": 4,
 "nbformat_minor": 2
}
