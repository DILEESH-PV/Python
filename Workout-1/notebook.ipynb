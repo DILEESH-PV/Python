{
 "cells": [
  {
   "cell_type": "markdown",
   "metadata": {},
   "source": [
    "# **ASSIGNMENT 1**\n",
    "### **Write a Python program to print the following string in a specific format**\n",
    "### Twinkle, twinkle, little star,How I wonder what you are! Up above the world so high,Like a diamond in the sky.Twinkle, twinkle, little star How I wonder what you are\n"
   ]
  },
  {
   "cell_type": "code",
   "execution_count": 1,
   "metadata": {},
   "outputs": [
    {
     "name": "stdout",
     "output_type": "stream",
     "text": [
      "       \n",
      "         Twinkle, twinkle, little star,\n",
      "                     How I wonder what you are!\n",
      "                            Up above the world so high,\n",
      "                            \n",
      "                            Like a diamond in the sky.\n",
      "         Twinkle, twinkle, little star.\n",
      "                     How I wonder what you are\n"
     ]
    }
   ],
   "source": [
    "poem='''       \n",
    "         Twinkle, twinkle, little star,\n",
    "                     How I wonder what you are!\n",
    "                            Up above the world so high,\n",
    "                            \n",
    "                            Like a diamond in the sky.\n",
    "         Twinkle, twinkle, little star.\n",
    "                     How I wonder what you are'''\n",
    "print(poem)"
   ]
  },
  {
   "cell_type": "markdown",
   "metadata": {},
   "source": [
    "# **ASSIGNMENT 2**\n",
    "### **Write a Python program which accepts the radius of a circle from the user and compute the area.**\n",
    "\n",
    "##### **EQUATION** \n",
    "### **Radius= 3.14 * r * r**"
   ]
  },
  {
   "cell_type": "code",
   "execution_count": 8,
   "metadata": {},
   "outputs": [
    {
     "name": "stdout",
     "output_type": "stream",
     "text": [
      "Radius of the circle 78.5\n"
     ]
    }
   ],
   "source": [
    "r=float(input(\"Enter radius\"))\n",
    "ar=(3.14*r*r)\n",
    "print(\"Entered radius : \",r)\n",
    "print(\"Area of the circle\",ar)"
   ]
  },
  {
   "cell_type": "markdown",
   "metadata": {},
   "source": [
    "# **ASSIGNMENT 3**\n",
    "\n",
    "### **One extra-large 18inch pizza costs as much as two medium 12inch pizzas.If i wanted to buy get the most pizza possible,should i buy 18inch pizza or two 12inch pizzas?**\n",
    "\n",
    "#### **Given Data**\n",
    "\n",
    "### **Diameter of first pizza = 18 inch**\n",
    "### **Therefore Radius = Diameter / 2**\n",
    "### **ie Radius = 9 inch**\n",
    "### **To find the area of First pizza = 3.14 * 9 * 9**\n",
    "\n",
    "### **Diameter of second pizzas = 12 inch**\n",
    "### **Therefore Radius = Diameter / 2**\n",
    "### **ie Radius = 6 inch**\n",
    "### **To find area of single second pizza = 3.14 * 6 * 6**\n",
    "### **Area of double second pizzas = 2 * 3.14 * r * r**"
   ]
  },
  {
   "cell_type": "code",
   "execution_count": null,
   "metadata": {},
   "outputs": [
    {
     "name": "stdout",
     "output_type": "stream",
     "text": [
      "Area of 18 inch pizza :  254.34\n",
      "Area of two 12 inch pizzas :  226.08\n",
      "\n",
      "Wanted to buy 18 inch pizza\n"
     ]
    }
   ],
   "source": [
    "p1rad=18/2\n",
    "p2rad=12/2\n",
    "area1=3.14*p1rad**2\n",
    "area2=2*(3.14*p2rad**2)\n",
    "print(\"\\nArea of 18 inch pizza : \",area1)\n",
    "print(\"\\nArea of two 12 inch pizzas : \",area2)\n",
    "if area1>area2:\n",
    "    print(\"\\nWanted to buy 18 inch pizza\")\n",
    "else:\n",
    "     print(\"\\nWanted to buy 18 inch pizza\")\n"
   ]
  }
 ],
 "metadata": {
  "kernelspec": {
   "display_name": "Python 3.10.5 64-bit",
   "language": "python",
   "name": "python3"
  },
  "language_info": {
   "codemirror_mode": {
    "name": "ipython",
    "version": 3
   },
   "file_extension": ".py",
   "mimetype": "text/x-python",
   "name": "python",
   "nbconvert_exporter": "python",
   "pygments_lexer": "ipython3",
   "version": "3.10.7"
  },
  "orig_nbformat": 4,
  "vscode": {
   "interpreter": {
    "hash": "3c3b3820ff112c31392948fc0df37e67872198a6cde73f78092de005a3a09429"
   }
  }
 },
 "nbformat": 4,
 "nbformat_minor": 2
}
