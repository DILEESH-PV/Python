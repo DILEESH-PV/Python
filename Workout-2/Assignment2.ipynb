{
 "cells": [
  {
   "cell_type": "markdown",
   "metadata": {},
   "source": [
    "# **PROBLEM 1**\n",
    "\n",
    "## **Given two integer numbers returns their product only if the product is equal to or lower than 1000 else return their sum**"
   ]
  },
  {
   "cell_type": "code",
   "execution_count": 7,
   "metadata": {},
   "outputs": [
    {
     "name": "stdout",
     "output_type": "stream",
     "text": [
      "Sum =  622.0\n"
     ]
    }
   ],
   "source": [
    "num1=float(input(\"Enter the first number\"))\n",
    "num2=float(input(\"Enter the second number\"))\n",
    "pro=num1*num2\n",
    "sum=num1+num2\n",
    "if(pro>1000):\n",
    "    print(\"Sum = \",sum)\n",
    "else:\n",
    "    print(\"Product = \",pro)"
   ]
  },
  {
   "cell_type": "markdown",
   "metadata": {},
   "source": [
    "# **PROBLEM 2**\n",
    "\n",
    "## **Write a function to return True if the first and last number of agiven list is same.If the numbers are different then return false**"
   ]
  },
  {
   "cell_type": "code",
   "execution_count": 12,
   "metadata": {},
   "outputs": [
    {
     "name": "stdout",
     "output_type": "stream",
     "text": [
      "Given List [10, 20, 30, 40, 10]\n",
      "Result is True\n",
      "Given List [75, 65, 35, 75, 30]\n",
      "Result is False\n"
     ]
    }
   ],
   "source": [
    "def numbers(numlist):\n",
    "  print(\"Given List\",numlist)\n",
    "  if numlist[0]==numlist[-1]:\n",
    "    return True\n",
    "  else:\n",
    "    return False\n",
    "  \n",
    "number_x=[10,20,30,40,10]\n",
    "print(\"Result is\",numbers(number_x))\n",
    "number_y=[75,65,35,75,30]\n",
    "print(\"Result is\",numbers(number_y))"
   ]
  },
  {
   "cell_type": "markdown",
   "metadata": {},
   "source": [
    "# **PROBLEM 3**\n",
    "\n",
    "## **Iterate the given list of numbers and print only those numbers which are divisible by 5**"
   ]
  },
  {
   "cell_type": "code",
   "execution_count": 1,
   "metadata": {},
   "outputs": [
    {
     "name": "stdout",
     "output_type": "stream",
     "text": [
      "Given List  [10, 20, 33, 46, 55]\n",
      "10\n",
      "20\n",
      "55\n"
     ]
    }
   ],
   "source": [
    "list1=[10,20,33,46,55]\n",
    "print(\"Given List \",list1)\n",
    "for i in list1:\n",
    "    if i%5==0:\n",
    "        print(i)"
   ]
  },
  {
   "cell_type": "markdown",
   "metadata": {},
   "source": [
    "# **PROBLEM 4**\n",
    "\n",
    "## **Write a program to find how many times substring \"Emma\" appears in the given string**"
   ]
  },
  {
   "cell_type": "code",
   "execution_count": 5,
   "metadata": {},
   "outputs": [
    {
     "name": "stdout",
     "output_type": "stream",
     "text": [
      "Emma appeared 2 times\n"
     ]
    }
   ],
   "source": [
    "str_x= \"Emma is good developer. Emma is a writter\"\n",
    "print(\"Emma appeared\" ,str_x.count(\"Emma\"),\"times\")"
   ]
  },
  {
   "cell_type": "markdown",
   "metadata": {},
   "source": [
    "# **PROBLEM 5**\n",
    "\n",
    "## **Print the following pattern**\n",
    "\n",
    "### **1**\n",
    "### **2 2**\n",
    "### **3 3 3**\n",
    "### **4 4 4 4**\n",
    "### **5 5 5 5 5**"
   ]
  },
  {
   "cell_type": "code",
   "execution_count": 22,
   "metadata": {},
   "outputs": [
    {
     "name": "stdout",
     "output_type": "stream",
     "text": [
      "  \n",
      "1     \n",
      "2   2     \n",
      "3   3   3     \n",
      "4   4   4   4     \n",
      "5   5   5   5   5   "
     ]
    }
   ],
   "source": [
    "for i in range(1,6):\n",
    "    print(\"  \")\n",
    "    for j in range(1,i+1):\n",
    "        print(i,end=\"   \")"
   ]
  },
  {
   "cell_type": "markdown",
   "metadata": {},
   "source": [
    "# **PROBLEM 6**\n",
    "\n",
    "### **Create a new list from a two list using the following condition**\n",
    "\n",
    "### **Given a two list of numbers,write a program to create a new list such that the new list should contain odd numbers from the list and even numbers from the second list**\n"
   ]
  },
  {
   "cell_type": "code",
   "execution_count": 3,
   "metadata": {},
   "outputs": [
    {
     "name": "stdout",
     "output_type": "stream",
     "text": [
      "result list : [25, 35, 40, 60, 90]\n"
     ]
    }
   ],
   "source": [
    "list1=[10,20,25,30,35]\n",
    "list2=[40,45,60,75,90]\n",
    "list3=[]\n",
    "for i in list1:\n",
    "    if i%2!=0:\n",
    "        list3.append(i)\n",
    "for i in list2:\n",
    "    if i%2==0:\n",
    "        list3.append(i)\n",
    "print(\"result list :\",list3)"
   ]
  },
  {
   "cell_type": "markdown",
   "metadata": {},
   "source": []
  },
  {
   "cell_type": "markdown",
   "metadata": {},
   "source": [
    "## numpy"
   ]
  },
  {
   "cell_type": "code",
   "execution_count": 14,
   "metadata": {},
   "outputs": [
    {
     "name": "stdout",
     "output_type": "stream",
     "text": [
      "[  1.  102.2]\n"
     ]
    },
    {
     "data": {
      "text/plain": [
       "dtype('float64')"
      ]
     },
     "execution_count": 14,
     "metadata": {},
     "output_type": "execute_result"
    }
   ],
   "source": [
    "from array import array\n",
    "import numpy as np\n",
    "a=np.array([1,102.2])\n",
    "print(a)\n",
    "a.dtype\n"
   ]
  }
 ],
 "metadata": {
  "kernelspec": {
   "display_name": "Python 3.10.7 64-bit",
   "language": "python",
   "name": "python3"
  },
  "language_info": {
   "codemirror_mode": {
    "name": "ipython",
    "version": 3
   },
   "file_extension": ".py",
   "mimetype": "text/x-python",
   "name": "python",
   "nbconvert_exporter": "python",
   "pygments_lexer": "ipython3",
   "version": "3.10.7"
  },
  "orig_nbformat": 4,
  "vscode": {
   "interpreter": {
    "hash": "3c3b3820ff112c31392948fc0df37e67872198a6cde73f78092de005a3a09429"
   }
  }
 },
 "nbformat": 4,
 "nbformat_minor": 2
}
